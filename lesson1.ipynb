{
  "nbformat": 4,
  "nbformat_minor": 0,
  "metadata": {
    "colab": {
      "provenance": [],
      "collapsed_sections": [],
      "authorship_tag": "ABX9TyPWJ8iEouQ2bq+8a3g91WTy",
      "include_colab_link": true
    },
    "kernelspec": {
      "name": "python3",
      "display_name": "Python 3"
    },
    "language_info": {
      "name": "python"
    }
  },
  "cells": [
    {
      "cell_type": "markdown",
      "metadata": {
        "id": "view-in-github",
        "colab_type": "text"
      },
      "source": [
        "<a href=\"https://colab.research.google.com/github/Tinauyateide/Data-cleaning/blob/main/lesson1.ipynb\" target=\"_parent\"><img src=\"https://colab.research.google.com/assets/colab-badge.svg\" alt=\"Open In Colab\"/></a>"
      ]
    },
    {
      "cell_type": "markdown",
      "source": [
        "# Use else block to display a message “Done” after successful execution of for loop."
      ],
      "metadata": {
        "id": "R6PtT8SNYYWu"
      }
    },
    {
      "cell_type": "code",
      "execution_count": 1,
      "metadata": {
        "colab": {
          "base_uri": "https://localhost:8080/"
        },
        "id": "b7ca4XjBYGgP",
        "outputId": "59b5513e-4058-45c0-8693-6c24f310e695"
      },
      "outputs": [
        {
          "output_type": "stream",
          "name": "stdout",
          "text": [
            "1\n",
            "2\n",
            "3\n",
            "4\n",
            "Done\n"
          ]
        }
      ],
      "source": [
        "for num in range(1, 5):\n",
        "    print(num)\n",
        "else:\n",
        "    print(\"Done\")"
      ]
    },
    {
      "cell_type": "markdown",
      "source": [
        "# Write a program to display all prime numbers within a range."
      ],
      "metadata": {
        "id": "aBk3uhz8YtA9"
      }
    },
    {
      "cell_type": "code",
      "source": [
        "lower_num = int(input(\"Enter lower_num: \"))\n",
        "higher_num = int(input(\"Enter higher_num: \"))\n",
        "\n",
        "for num in range(lower_num,higher_num):\n",
        "    if num > 1:\n",
        "        for i in range(2,num):\n",
        "            if (num % i) == 0:\n",
        "                break\n",
        "            else:\n",
        "                print(num)"
      ],
      "metadata": {
        "colab": {
          "base_uri": "https://localhost:8080/"
        },
        "id": "sovHn9fkYomC",
        "outputId": "df625d22-96b5-430c-90a2-c68d68b1525c"
      },
      "execution_count": 4,
      "outputs": [
        {
          "output_type": "stream",
          "name": "stdout",
          "text": [
            "Enter lower_num: 3\n",
            "Enter higher_num: 10\n",
            "3\n",
            "5\n",
            "5\n",
            "5\n",
            "7\n",
            "7\n",
            "7\n",
            "7\n",
            "7\n",
            "9\n"
          ]
        }
      ]
    },
    {
      "cell_type": "markdown",
      "source": [
        "# Use a loop to display elements from a given list present at odd index positions."
      ],
      "metadata": {
        "id": "Qjj7bInMZduD"
      }
    },
    {
      "cell_type": "code",
      "source": [
        "def odd_indices(lst):\n",
        "    new_lst = []\n",
        "    new_lst.append(lst[0::2])\n",
        "    return new_lst\n",
        "\n",
        "print(\"Element of Given array present in Odd index positions:\")\n",
        "print(odd_indices([1,7,8,4,10,13,17]))\n"
      ],
      "metadata": {
        "colab": {
          "base_uri": "https://localhost:8080/"
        },
        "id": "x5c_M5D2YpQu",
        "outputId": "b04d040c-de80-44db-de2c-c4f1d59ebe0b"
      },
      "execution_count": 5,
      "outputs": [
        {
          "output_type": "stream",
          "name": "stdout",
          "text": [
            "Element of Given array present in Odd positions:\n",
            "[[1, 8, 10, 17]]\n"
          ]
        }
      ]
    },
    {
      "cell_type": "markdown",
      "source": [
        "# Calculate the cube of all numbers from 1 to a given number"
      ],
      "metadata": {
        "id": "6uuhsecyaPfk"
      }
    },
    {
      "cell_type": "code",
      "source": [
        "c=dict()\n",
        "for x in range(1,10):\n",
        "    c[x]=x**3\n",
        "print(c)  "
      ],
      "metadata": {
        "colab": {
          "base_uri": "https://localhost:8080/"
        },
        "id": "WPKLhUVAYp4U",
        "outputId": "34df9e5c-7622-464f-d7d3-5d44800358ff"
      },
      "execution_count": 6,
      "outputs": [
        {
          "output_type": "stream",
          "name": "stdout",
          "text": [
            "{1: 1, 2: 8, 3: 27, 4: 64, 5: 125, 6: 216, 7: 343, 8: 512, 9: 729}\n"
          ]
        }
      ]
    }
  ]
}