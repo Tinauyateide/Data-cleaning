{
  "nbformat": 4,
  "nbformat_minor": 0,
  "metadata": {
    "colab": {
      "provenance": [],
      "authorship_tag": "ABX9TyMW1MlYO/y7eKKC6wBoVDel",
      "include_colab_link": true
    },
    "kernelspec": {
      "name": "python3",
      "display_name": "Python 3"
    },
    "language_info": {
      "name": "python"
    }
  },
  "cells": [
    {
      "cell_type": "markdown",
      "metadata": {
        "id": "view-in-github",
        "colab_type": "text"
      },
      "source": [
        "<a href=\"https://colab.research.google.com/github/Tinauyateide/Data-cleaning/blob/main/lessson2.ipynb\" target=\"_parent\"><img src=\"https://colab.research.google.com/assets/colab-badge.svg\" alt=\"Open In Colab\"/></a>"
      ]
    },
    {
      "cell_type": "markdown",
      "source": [
        "# Create a function, that repeats the first 2 letters of a word which will be followed by 3 dots and a space after. The string should be ended with a question mark.\n"
      ],
      "metadata": {
        "id": "-Xlb3thgcJTg"
      }
    },
    {
      "cell_type": "code",
      "execution_count": 1,
      "metadata": {
        "colab": {
          "base_uri": "https://localhost:8080/"
        },
        "id": "zfe7seTzb8xl",
        "outputId": "5f1de053-3acf-4707-e8eb-58ac2f8063c4"
      },
      "outputs": [
        {
          "output_type": "stream",
          "name": "stdout",
          "text": [
            "Mo...Mo...Morning ?\n"
          ]
        }
      ],
      "source": [
        "def stutter(word):\n",
        "    return word[0:2]+ \"...\" + word[0:2] + \"...\" + word + \" ?\"\n",
        "\n",
        "print(stutter(\"Morning\"))\n"
      ]
    },
    {
      "cell_type": "markdown",
      "source": [
        "# Perform a for loop that searches through a string and prints only distinct vowel letters."
      ],
      "metadata": {
        "id": "vNfGcec7c6XN"
      }
    },
    {
      "cell_type": "code",
      "source": [
        "words = input('Enter your sentence: ' )\n",
        "vowels = 'aeiouAEIOU'\n",
        "for letter in words:\n",
        "    if letter in vowels:\n",
        "        print(letter)"
      ],
      "metadata": {
        "colab": {
          "base_uri": "https://localhost:8080/"
        },
        "id": "LQ8JdW9RcTqX",
        "outputId": "8e6f8df3-4eb6-4ebd-e0e8-91890228186c"
      },
      "execution_count": 2,
      "outputs": [
        {
          "output_type": "stream",
          "name": "stdout",
          "text": [
            "Enter your sentence: i love ice cream \n",
            "i\n",
            "o\n",
            "e\n",
            "i\n",
            "e\n",
            "e\n",
            "a\n"
          ]
        }
      ]
    },
    {
      "cell_type": "markdown",
      "source": [
        "# Perform a while loop that requests for a name, if that name is entered, it will be printed else, if user types “end” (this command should be case insensitive), the while loop is terminated\n"
      ],
      "metadata": {
        "id": "L7PJRfHEACVB"
      }
    },
    {
      "cell_type": "code",
      "source": [
        "def name():\n",
        "    txt = input(\" please enter your name: \").lower()\n",
        "    while txt != \"end\":\n",
        "        return txt\n",
        "    else:\n",
        "        pass\n",
        "\n",
        "print(name())\n"
      ],
      "metadata": {
        "id": "j2mcNO4kcUTA",
        "colab": {
          "base_uri": "https://localhost:8080/"
        },
        "outputId": "aa26749e-8e00-46e6-936e-36f9fd4176a4"
      },
      "execution_count": 7,
      "outputs": [
        {
          "output_type": "stream",
          "name": "stdout",
          "text": [
            " please enter your name: blessing\n",
            "blessing\n"
          ]
        }
      ]
    }
  ]
}